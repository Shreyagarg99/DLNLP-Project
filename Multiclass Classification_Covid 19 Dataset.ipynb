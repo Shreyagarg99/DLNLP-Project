{
 "cells": [
  {
   "cell_type": "code",
   "execution_count": 6,
   "id": "89431cd4",
   "metadata": {},
   "outputs": [],
   "source": [
    "import tensorflow as tf\n",
    "import numpy as np\n"
   ]
  },
  {
   "cell_type": "code",
   "execution_count": 7,
   "id": "a1ba25c5",
   "metadata": {},
   "outputs": [],
   "source": [
    "from keras.preprocessing.image import ImageDataGenerator"
   ]
  },
  {
   "cell_type": "code",
   "execution_count": 8,
   "id": "0b423f63",
   "metadata": {},
   "outputs": [],
   "source": [
    "train_datagen = ImageDataGenerator(rescale = 1./255,\n",
    "                                   shear_range = 0.2,\n",
    "                                   zoom_range = 0.2,\n",
    "                                   horizontal_flip = True)"
   ]
  },
  {
   "cell_type": "code",
   "execution_count": 12,
   "id": "aa25faac",
   "metadata": {},
   "outputs": [
    {
     "name": "stdout",
     "output_type": "stream",
     "text": [
      "Found 251 images belonging to 3 classes.\n"
     ]
    }
   ],
   "source": [
    "training_set = train_datagen.flow_from_directory('C:\\\\Users\\\\025005\\\\Desktop\\\\Covid19-dataset\\\\train',\n",
    "                                                 target_size = (64, 64),\n",
    "                                                 batch_size = 32,\n",
    "                                                 class_mode = 'categorical')"
   ]
  },
  {
   "cell_type": "code",
   "execution_count": 13,
   "id": "414f99b9",
   "metadata": {},
   "outputs": [
    {
     "name": "stdout",
     "output_type": "stream",
     "text": [
      "Found 66 images belonging to 3 classes.\n"
     ]
    }
   ],
   "source": [
    "test_datagen = ImageDataGenerator(rescale = 1./255)\n",
    "test_set = test_datagen.flow_from_directory('C:\\\\Users\\\\025005\\\\Desktop\\\\Covid19-dataset\\\\test',\n",
    "                                            target_size = (64, 64),\n",
    "                                            batch_size = 32,\n",
    "                                            class_mode = 'categorical')"
   ]
  },
  {
   "cell_type": "code",
   "execution_count": 14,
   "id": "520cb1e2",
   "metadata": {},
   "outputs": [],
   "source": [
    "cnn = tf.keras.models.Sequential()"
   ]
  },
  {
   "cell_type": "code",
   "execution_count": 15,
   "id": "1e379b39",
   "metadata": {},
   "outputs": [],
   "source": [
    "cnn.add(tf.keras.layers.Conv2D(filters=32, kernel_size=3, activation='relu', input_shape=[64, 64, 3]))"
   ]
  },
  {
   "cell_type": "code",
   "execution_count": 16,
   "id": "6de50052",
   "metadata": {},
   "outputs": [],
   "source": [
    "cnn.add(tf.keras.layers.MaxPool2D(pool_size=2, strides=2))"
   ]
  },
  {
   "cell_type": "code",
   "execution_count": 17,
   "id": "1c71f06a",
   "metadata": {},
   "outputs": [],
   "source": [
    "cnn.add(tf.keras.layers.Conv2D(filters=32, kernel_size=3, activation='relu'))\n",
    "cnn.add(tf.keras.layers.MaxPool2D(pool_size=2, strides=2))"
   ]
  },
  {
   "cell_type": "code",
   "execution_count": 18,
   "id": "d16b7d6d",
   "metadata": {},
   "outputs": [],
   "source": [
    "cnn.add(tf.keras.layers.Flatten())"
   ]
  },
  {
   "cell_type": "code",
   "execution_count": 19,
   "id": "c4efd76f",
   "metadata": {},
   "outputs": [],
   "source": [
    "cnn.add(tf.keras.layers.Dense(units=128, activation='relu'))"
   ]
  },
  {
   "cell_type": "code",
   "execution_count": 20,
   "id": "c93d940f",
   "metadata": {},
   "outputs": [],
   "source": [
    "cnn.add(tf.keras.layers.Dense(units=1, activation='sigmoid'))"
   ]
  },
  {
   "cell_type": "code",
   "execution_count": 21,
   "id": "e4abe60f",
   "metadata": {},
   "outputs": [],
   "source": [
    "cnn.compile(optimizer = 'adam', loss = 'binary_crossentropy', metrics = ['accuracy'])"
   ]
  },
  {
   "cell_type": "code",
   "execution_count": 22,
   "id": "cfac95ac",
   "metadata": {},
   "outputs": [
    {
     "name": "stdout",
     "output_type": "stream",
     "text": [
      "Epoch 1/25\n",
      "8/8 [==============================] - 8s 1s/step - loss: 0.7372 - accuracy: 0.5870 - val_loss: 0.6433 - val_accuracy: 0.6667\n",
      "Epoch 2/25\n",
      "8/8 [==============================] - 7s 947ms/step - loss: 0.6404 - accuracy: 0.6667 - val_loss: 0.6369 - val_accuracy: 0.6667\n",
      "Epoch 3/25\n",
      "8/8 [==============================] - 8s 976ms/step - loss: 0.6384 - accuracy: 0.6667 - val_loss: 0.6380 - val_accuracy: 0.6667\n",
      "Epoch 4/25\n",
      "8/8 [==============================] - 7s 911ms/step - loss: 0.6375 - accuracy: 0.6667 - val_loss: 0.6368 - val_accuracy: 0.6667\n",
      "Epoch 5/25\n",
      "8/8 [==============================] - 8s 931ms/step - loss: 0.6370 - accuracy: 0.6667 - val_loss: 0.6371 - val_accuracy: 0.6667\n",
      "Epoch 6/25\n",
      "8/8 [==============================] - 7s 840ms/step - loss: 0.6370 - accuracy: 0.6667 - val_loss: 0.6369 - val_accuracy: 0.6667\n",
      "Epoch 7/25\n",
      "8/8 [==============================] - 7s 908ms/step - loss: 0.6369 - accuracy: 0.6667 - val_loss: 0.6370 - val_accuracy: 0.6667\n",
      "Epoch 8/25\n",
      "8/8 [==============================] - 7s 927ms/step - loss: 0.6369 - accuracy: 0.6667 - val_loss: 0.6370 - val_accuracy: 0.6667\n",
      "Epoch 9/25\n",
      "8/8 [==============================] - 7s 884ms/step - loss: 0.6369 - accuracy: 0.6667 - val_loss: 0.6368 - val_accuracy: 0.6667\n",
      "Epoch 10/25\n",
      "8/8 [==============================] - 8s 969ms/step - loss: 0.6369 - accuracy: 0.6667 - val_loss: 0.6368 - val_accuracy: 0.6667\n",
      "Epoch 11/25\n",
      "8/8 [==============================] - 7s 943ms/step - loss: 0.6368 - accuracy: 0.6667 - val_loss: 0.6369 - val_accuracy: 0.6667\n",
      "Epoch 12/25\n",
      "8/8 [==============================] - 7s 876ms/step - loss: 0.6368 - accuracy: 0.6667 - val_loss: 0.6368 - val_accuracy: 0.6667\n",
      "Epoch 13/25\n",
      "8/8 [==============================] - 7s 881ms/step - loss: 0.6368 - accuracy: 0.6667 - val_loss: 0.6368 - val_accuracy: 0.6667\n",
      "Epoch 14/25\n",
      "8/8 [==============================] - 7s 877ms/step - loss: 0.6368 - accuracy: 0.6667 - val_loss: 0.6370 - val_accuracy: 0.6667\n",
      "Epoch 15/25\n",
      "8/8 [==============================] - 7s 906ms/step - loss: 0.6368 - accuracy: 0.6667 - val_loss: 0.6368 - val_accuracy: 0.6667\n",
      "Epoch 16/25\n",
      "8/8 [==============================] - 7s 898ms/step - loss: 0.6368 - accuracy: 0.6667 - val_loss: 0.6368 - val_accuracy: 0.6667\n",
      "Epoch 17/25\n",
      "8/8 [==============================] - 7s 899ms/step - loss: 0.6367 - accuracy: 0.6667 - val_loss: 0.6368 - val_accuracy: 0.6667\n",
      "Epoch 18/25\n",
      "8/8 [==============================] - 7s 899ms/step - loss: 0.6368 - accuracy: 0.6667 - val_loss: 0.6369 - val_accuracy: 0.6667\n",
      "Epoch 19/25\n",
      "8/8 [==============================] - 7s 933ms/step - loss: 0.6368 - accuracy: 0.6667 - val_loss: 0.6368 - val_accuracy: 0.6667\n",
      "Epoch 20/25\n",
      "8/8 [==============================] - 7s 922ms/step - loss: 0.6368 - accuracy: 0.6667 - val_loss: 0.6367 - val_accuracy: 0.6667\n",
      "Epoch 21/25\n",
      "8/8 [==============================] - 21s 3s/step - loss: 0.6368 - accuracy: 0.6667 - val_loss: 0.6367 - val_accuracy: 0.6667\n",
      "Epoch 22/25\n",
      "8/8 [==============================] - 11s 1s/step - loss: 0.6367 - accuracy: 0.6667 - val_loss: 0.6367 - val_accuracy: 0.6667\n",
      "Epoch 23/25\n",
      "8/8 [==============================] - 7s 928ms/step - loss: 0.6367 - accuracy: 0.6667 - val_loss: 0.6366 - val_accuracy: 0.6667\n",
      "Epoch 24/25\n",
      "8/8 [==============================] - 16s 2s/step - loss: 0.6367 - accuracy: 0.6667 - val_loss: 0.6367 - val_accuracy: 0.6667\n",
      "Epoch 25/25\n",
      "8/8 [==============================] - 9s 1s/step - loss: 0.6368 - accuracy: 0.6667 - val_loss: 0.6367 - val_accuracy: 0.6667\n"
     ]
    },
    {
     "data": {
      "text/plain": [
       "<keras.callbacks.History at 0x263d4471eb0>"
      ]
     },
     "execution_count": 22,
     "metadata": {},
     "output_type": "execute_result"
    }
   ],
   "source": [
    "cnn.fit(x = training_set, validation_data = test_set, epochs = 25)"
   ]
  },
  {
   "cell_type": "code",
   "execution_count": 31,
   "id": "559f2f64",
   "metadata": {},
   "outputs": [
    {
     "name": "stdout",
     "output_type": "stream",
     "text": [
      "1/1 [==============================] - 0s 13ms/step\n"
     ]
    }
   ],
   "source": [
    "import numpy as np\n",
    "from keras.preprocessing import image\n",
    "test_image = tf.keras.preprocessing.image.load_img('C:\\\\Users\\\\025005\\\\Desktop\\\\Covid19-dataset\\\\test\\\\Covid\\\\096.png', target_size = (64, 64))\n",
    "test_image = tf.keras.preprocessing.image.img_to_array(test_image)\n",
    "test_image = np.expand_dims(test_image, axis = 0)\n",
    "result = cnn.predict(test_image)\n",
    "training_set.class_indices\n",
    "if result[0][0] == 1:\n",
    "  prediction = 'normal'\n",
    "else:\n",
    "  prediction = 'covid'"
   ]
  },
  {
   "cell_type": "code",
   "execution_count": 32,
   "id": "4774e275",
   "metadata": {},
   "outputs": [
    {
     "name": "stdout",
     "output_type": "stream",
     "text": [
      "covid\n"
     ]
    }
   ],
   "source": [
    "print(prediction)"
   ]
  }
 ],
 "metadata": {
  "kernelspec": {
   "display_name": "Python 3",
   "language": "python",
   "name": "python3"
  },
  "language_info": {
   "codemirror_mode": {
    "name": "ipython",
    "version": 3
   },
   "file_extension": ".py",
   "mimetype": "text/x-python",
   "name": "python",
   "nbconvert_exporter": "python",
   "pygments_lexer": "ipython3",
   "version": "3.8.8"
  }
 },
 "nbformat": 4,
 "nbformat_minor": 5
}
